{
 "cells": [
  {
   "cell_type": "code",
   "execution_count": 81,
   "id": "5406c3c0",
   "metadata": {
    "id": "5406c3c0"
   },
   "outputs": [],
   "source": [
    "import pandas as pd\n",
    "import nltk\n",
    "import string\n",
    "import re\n",
    "import seaborn as sns\n",
    "import matplotlib.pyplot as plt\n",
    "from nltk.corpus import stopwords\n",
    "from nltk.stem import WordNetLemmatizer\n",
    "from collections import Counter\n",
    "from sklearn.model_selection import train_test_split\n",
    "from sklearn.feature_extraction.text import CountVectorizer\n",
    "from sklearn.linear_model import LogisticRegression\n",
    "from sklearn.metrics import accuracy_score, confusion_matrix\n",
    "from sklearn.svm import SVC\n",
    "from sklearn.feature_extraction.text import TfidfVectorizer\n",
    "from sklearn.metrics import accuracy_score, f1_score\n",
    "from gensim.models import Word2Vec\n",
    "import numpy as np\n",
    "from gensim.models import KeyedVectors\n",
    "from sklearn.model_selection import GridSearchCV"
   ]
  },
  {
   "cell_type": "code",
   "execution_count": 2,
   "id": "928b3315",
   "metadata": {
    "colab": {
     "base_uri": "https://localhost:8080/",
     "height": 649
    },
    "id": "928b3315",
    "outputId": "b46700e6-e4e2-4fc9-f4d3-46a8fe57bfdd"
   },
   "outputs": [
    {
     "data": {
      "text/html": [
       "<div>\n",
       "<style scoped>\n",
       "    .dataframe tbody tr th:only-of-type {\n",
       "        vertical-align: middle;\n",
       "    }\n",
       "\n",
       "    .dataframe tbody tr th {\n",
       "        vertical-align: top;\n",
       "    }\n",
       "\n",
       "    .dataframe thead th {\n",
       "        text-align: right;\n",
       "    }\n",
       "</style>\n",
       "<table border=\"1\" class=\"dataframe\">\n",
       "  <thead>\n",
       "    <tr style=\"text-align: right;\">\n",
       "      <th></th>\n",
       "      <th>Id</th>\n",
       "      <th>ProductId</th>\n",
       "      <th>UserId</th>\n",
       "      <th>ProfileName</th>\n",
       "      <th>HelpfulnessNumerator</th>\n",
       "      <th>HelpfulnessDenominator</th>\n",
       "      <th>Score</th>\n",
       "      <th>Time</th>\n",
       "      <th>Summary</th>\n",
       "      <th>Text</th>\n",
       "    </tr>\n",
       "  </thead>\n",
       "  <tbody>\n",
       "    <tr>\n",
       "      <th>0</th>\n",
       "      <td>1</td>\n",
       "      <td>B001E4KFG0</td>\n",
       "      <td>A3SGXH7AUHU8GW</td>\n",
       "      <td>delmartian</td>\n",
       "      <td>1</td>\n",
       "      <td>1</td>\n",
       "      <td>5</td>\n",
       "      <td>1303862400</td>\n",
       "      <td>Good Quality Dog Food</td>\n",
       "      <td>I have bought several of the Vitality canned d...</td>\n",
       "    </tr>\n",
       "    <tr>\n",
       "      <th>1</th>\n",
       "      <td>2</td>\n",
       "      <td>B00813GRG4</td>\n",
       "      <td>A1D87F6ZCVE5NK</td>\n",
       "      <td>dll pa</td>\n",
       "      <td>0</td>\n",
       "      <td>0</td>\n",
       "      <td>1</td>\n",
       "      <td>1346976000</td>\n",
       "      <td>Not as Advertised</td>\n",
       "      <td>Product arrived labeled as Jumbo Salted Peanut...</td>\n",
       "    </tr>\n",
       "    <tr>\n",
       "      <th>2</th>\n",
       "      <td>3</td>\n",
       "      <td>B000LQOCH0</td>\n",
       "      <td>ABXLMWJIXXAIN</td>\n",
       "      <td>Natalia Corres \"Natalia Corres\"</td>\n",
       "      <td>1</td>\n",
       "      <td>1</td>\n",
       "      <td>4</td>\n",
       "      <td>1219017600</td>\n",
       "      <td>\"Delight\" says it all</td>\n",
       "      <td>This is a confection that has been around a fe...</td>\n",
       "    </tr>\n",
       "    <tr>\n",
       "      <th>3</th>\n",
       "      <td>4</td>\n",
       "      <td>B000UA0QIQ</td>\n",
       "      <td>A395BORC6FGVXV</td>\n",
       "      <td>Karl</td>\n",
       "      <td>3</td>\n",
       "      <td>3</td>\n",
       "      <td>2</td>\n",
       "      <td>1307923200</td>\n",
       "      <td>Cough Medicine</td>\n",
       "      <td>If you are looking for the secret ingredient i...</td>\n",
       "    </tr>\n",
       "    <tr>\n",
       "      <th>4</th>\n",
       "      <td>5</td>\n",
       "      <td>B006K2ZZ7K</td>\n",
       "      <td>A1UQRSCLF8GW1T</td>\n",
       "      <td>Michael D. Bigham \"M. Wassir\"</td>\n",
       "      <td>0</td>\n",
       "      <td>0</td>\n",
       "      <td>5</td>\n",
       "      <td>1350777600</td>\n",
       "      <td>Great taffy</td>\n",
       "      <td>Great taffy at a great price.  There was a wid...</td>\n",
       "    </tr>\n",
       "  </tbody>\n",
       "</table>\n",
       "</div>"
      ],
      "text/plain": [
       "   Id   ProductId          UserId                      ProfileName  \\\n",
       "0   1  B001E4KFG0  A3SGXH7AUHU8GW                       delmartian   \n",
       "1   2  B00813GRG4  A1D87F6ZCVE5NK                           dll pa   \n",
       "2   3  B000LQOCH0   ABXLMWJIXXAIN  Natalia Corres \"Natalia Corres\"   \n",
       "3   4  B000UA0QIQ  A395BORC6FGVXV                             Karl   \n",
       "4   5  B006K2ZZ7K  A1UQRSCLF8GW1T    Michael D. Bigham \"M. Wassir\"   \n",
       "\n",
       "   HelpfulnessNumerator  HelpfulnessDenominator  Score        Time  \\\n",
       "0                     1                       1      5  1303862400   \n",
       "1                     0                       0      1  1346976000   \n",
       "2                     1                       1      4  1219017600   \n",
       "3                     3                       3      2  1307923200   \n",
       "4                     0                       0      5  1350777600   \n",
       "\n",
       "                 Summary                                               Text  \n",
       "0  Good Quality Dog Food  I have bought several of the Vitality canned d...  \n",
       "1      Not as Advertised  Product arrived labeled as Jumbo Salted Peanut...  \n",
       "2  \"Delight\" says it all  This is a confection that has been around a fe...  \n",
       "3         Cough Medicine  If you are looking for the secret ingredient i...  \n",
       "4            Great taffy  Great taffy at a great price.  There was a wid...  "
      ]
     },
     "execution_count": 2,
     "metadata": {},
     "output_type": "execute_result"
    }
   ],
   "source": [
    "# Load the dataset\n",
    "amazon_data = pd.read_csv(\"Reviews.csv\")\n",
    "amazon_data.head()"
   ]
  },
  {
   "cell_type": "code",
   "execution_count": 3,
   "id": "231b8ff4",
   "metadata": {
    "colab": {
     "base_uri": "https://localhost:8080/",
     "height": 165
    },
    "id": "231b8ff4",
    "outputId": "d85e0bed-10eb-4b32-d3e2-248e82f42f3e"
   },
   "outputs": [],
   "source": [
    "train_data, test_data = train_test_split(amazon_data, test_size=0.2, random_state=42)"
   ]
  },
  {
   "cell_type": "code",
   "execution_count": 4,
   "id": "PaM3xeBt2hWv",
   "metadata": {
    "colab": {
     "base_uri": "https://localhost:8080/"
    },
    "id": "PaM3xeBt2hWv",
    "outputId": "c07f4319-c990-4497-c0fe-37b317831d6b"
   },
   "outputs": [
    {
     "name": "stderr",
     "output_type": "stream",
     "text": [
      "[nltk_data] Downloading package punkt to\n",
      "[nltk_data]     C:\\Users\\lenovo\\AppData\\Roaming\\nltk_data...\n",
      "[nltk_data]   Package punkt is already up-to-date!\n",
      "[nltk_data] Downloading package stopwords to\n",
      "[nltk_data]     C:\\Users\\lenovo\\AppData\\Roaming\\nltk_data...\n",
      "[nltk_data]   Package stopwords is already up-to-date!\n",
      "[nltk_data] Downloading package wordnet to\n",
      "[nltk_data]     C:\\Users\\lenovo\\AppData\\Roaming\\nltk_data...\n",
      "[nltk_data]   Package wordnet is already up-to-date!\n"
     ]
    }
   ],
   "source": [
    "# Download necessary resources from NLTK\n",
    "nltk.download('punkt')\n",
    "nltk.download('stopwords')\n",
    "nltk.download('wordnet')\n",
    "\n",
    "# Define stop words and lemmatizer\n",
    "stop_words = set(stopwords.words('english'))\n",
    "lemmatizer = WordNetLemmatizer()\n",
    "\n",
    "# Define preprocessing function\n",
    "def preprocess_text(text):\n",
    "    # Convert text to lowercase\n",
    "    text = text.lower()\n",
    "    \n",
    "    # Remove punctuation\n",
    "    text = text.translate(str.maketrans(\"\", \"\", string.punctuation))\n",
    "    \n",
    "    # Tokenize text\n",
    "    tokens = nltk.word_tokenize(text)\n",
    "    \n",
    "    # Remove stop words and lemmatize\n",
    "    clean_tokens = []\n",
    "    for token in tokens:\n",
    "        if token not in stop_words:\n",
    "            clean_token = lemmatizer.lemmatize(token)\n",
    "            clean_tokens.append(clean_token)\n",
    "    \n",
    "    # Join tokens back into string\n",
    "    clean_text = \" \".join(clean_tokens)\n",
    "    \n",
    "    return clean_text"
   ]
  },
  {
   "cell_type": "code",
   "execution_count": 5,
   "id": "aws3XkKU2yT4",
   "metadata": {
    "id": "aws3XkKU2yT4"
   },
   "outputs": [],
   "source": [
    "# Apply preprocessing function to train and test datasets\n",
    "train_data[\"clean_text\"] = train_data[\"Text\"].apply(preprocess_text)"
   ]
  },
  {
   "cell_type": "code",
   "execution_count": 6,
   "id": "qaL9VGVd2yHC",
   "metadata": {
    "id": "qaL9VGVd2yHC"
   },
   "outputs": [],
   "source": [
    "test_data[\"clean_text\"] = test_data[\"Text\"].apply(preprocess_text)"
   ]
  },
  {
   "cell_type": "markdown",
   "id": "fc4ea77c",
   "metadata": {
    "id": "fc4ea77c"
   },
   "source": [
    "# Feature Extraction"
   ]
  },
  {
   "cell_type": "markdown",
   "id": "8aec3d89",
   "metadata": {
    "id": "8aec3d89"
   },
   "source": [
    "#### BOW"
   ]
  },
  {
   "cell_type": "code",
   "execution_count": 7,
   "id": "c1110f9c",
   "metadata": {
    "id": "c1110f9c"
   },
   "outputs": [],
   "source": [
    "# Create CountVectorizer object\n",
    "bow_vectorizer = CountVectorizer()"
   ]
  },
  {
   "cell_type": "code",
   "execution_count": 8,
   "id": "9e58b9a9",
   "metadata": {
    "id": "9e58b9a9"
   },
   "outputs": [],
   "source": [
    "# Fit vectorizer on train set\n",
    "train_bow = bow_vectorizer.fit_transform(train_data['clean_text'])"
   ]
  },
  {
   "cell_type": "code",
   "execution_count": 9,
   "id": "9685d0ab",
   "metadata": {
    "id": "9685d0ab"
   },
   "outputs": [],
   "source": [
    "# Transform test set using fitted vectorizer\n",
    "test_bow = bow_vectorizer.transform(test_data['clean_text'])"
   ]
  },
  {
   "cell_type": "markdown",
   "id": "ee0f9556",
   "metadata": {
    "id": "ee0f9556"
   },
   "source": [
    "#### n-gram"
   ]
  },
  {
   "cell_type": "code",
   "execution_count": 10,
   "id": "9bfde62b",
   "metadata": {
    "id": "9bfde62b"
   },
   "outputs": [],
   "source": [
    "# Create CountVectorizer object with n-gram range of (1,2)\n",
    "ngram_vectorizer = CountVectorizer(ngram_range=(1,2))"
   ]
  },
  {
   "cell_type": "code",
   "execution_count": 11,
   "id": "d6e0f771",
   "metadata": {
    "id": "d6e0f771"
   },
   "outputs": [],
   "source": [
    "# Fit and transform train data\n",
    "train_ngram = ngram_vectorizer.fit_transform(train_data['clean_text'])"
   ]
  },
  {
   "cell_type": "code",
   "execution_count": 12,
   "id": "57a0f246",
   "metadata": {
    "id": "57a0f246"
   },
   "outputs": [],
   "source": [
    "# Transform test data\n",
    "test_ngram = ngram_vectorizer.transform(test_data['clean_text'])"
   ]
  },
  {
   "cell_type": "markdown",
   "id": "2cbe487a",
   "metadata": {
    "id": "2cbe487a"
   },
   "source": [
    "#### TF-IDF"
   ]
  },
  {
   "cell_type": "code",
   "execution_count": 13,
   "id": "bbba998b",
   "metadata": {
    "id": "bbba998b"
   },
   "outputs": [],
   "source": [
    "# Create a TfidfVectorizer object\n",
    "tfidf_vectorizer = TfidfVectorizer()"
   ]
  },
  {
   "cell_type": "code",
   "execution_count": 14,
   "id": "b43e7f4f",
   "metadata": {
    "id": "b43e7f4f"
   },
   "outputs": [],
   "source": [
    "# Fit and transform train data\n",
    "train_tfidf = tfidf_vectorizer.fit_transform(train_data['clean_text'])"
   ]
  },
  {
   "cell_type": "code",
   "execution_count": 15,
   "id": "ea3a5de8",
   "metadata": {
    "id": "ea3a5de8"
   },
   "outputs": [],
   "source": [
    "# Transform test data\n",
    "test_tfidf = tfidf_vectorizer.transform(test_data['clean_text'])"
   ]
  },
  {
   "cell_type": "markdown",
   "id": "6881b3fc",
   "metadata": {
    "id": "yTMl7R4v9qE3"
   },
   "source": [
    "#### CBOW"
   ]
  },
  {
   "cell_type": "code",
   "execution_count": 16,
   "id": "ef3d337d",
   "metadata": {},
   "outputs": [],
   "source": [
    "# Train CBOW model\n",
    "cbow_model = Word2Vec(train_data[\"clean_text\"].apply(lambda x: x.split()), min_count=1, window=5, workers=4, sg=0)"
   ]
  },
  {
   "cell_type": "code",
   "execution_count": 17,
   "id": "6518dcc5",
   "metadata": {},
   "outputs": [],
   "source": [
    "# Convert preprocessed text to CBOW embeddings\n",
    "train_cbow = np.zeros((len(train_data), 100))\n",
    "for i, doc in enumerate(train_data[\"clean_text\"]):\n",
    "    tokens = doc.split()\n",
    "    embeddings = [cbow_model.wv[token] for token in tokens if token in cbow_model.wv]\n",
    "    if embeddings:\n",
    "        train_cbow[i] = np.mean(embeddings, axis=0)"
   ]
  },
  {
   "cell_type": "code",
   "execution_count": 18,
   "id": "9e4217d2",
   "metadata": {},
   "outputs": [],
   "source": [
    "test_cbow = np.zeros((len(test_data), 100))\n",
    "for i, doc in enumerate(test_data[\"clean_text\"]):\n",
    "    tokens = doc.split()\n",
    "    embeddings = [cbow_model.wv[token] for token in tokens if token in cbow_model.wv]\n",
    "    if embeddings:\n",
    "        test_cbow[i] = np.mean(embeddings, axis=0)"
   ]
  },
  {
   "cell_type": "markdown",
   "id": "38998fb4",
   "metadata": {},
   "source": [
    "#### Skip Gram"
   ]
  },
  {
   "cell_type": "code",
   "execution_count": 19,
   "id": "aa1f8933",
   "metadata": {},
   "outputs": [],
   "source": [
    "# Train Skip Gram model on preprocessed text\n",
    "skipgram_model = Word2Vec(train_data[\"clean_text\"].apply(lambda x: x.split()), min_count=1, window=5, workers=4, sg=1)"
   ]
  },
  {
   "cell_type": "code",
   "execution_count": 20,
   "id": "1be602da",
   "metadata": {},
   "outputs": [],
   "source": [
    "# Convert preprocessed text to Skip Gram embeddings\n",
    "train_skipgram = np.zeros((len(train_data), 100))\n",
    "for i, doc in enumerate(train_data[\"clean_text\"]):\n",
    "    tokens = doc.split()\n",
    "    embeddings = [skipgram_model.wv[token] for token in tokens if token in skipgram_model.wv]\n",
    "    if embeddings:\n",
    "        train_skipgram[i] = np.mean(embeddings, axis=0)"
   ]
  },
  {
   "cell_type": "code",
   "execution_count": 21,
   "id": "822c486c",
   "metadata": {},
   "outputs": [],
   "source": [
    "test_skipgram = np.zeros((len(test_data), 100))\n",
    "for i, doc in enumerate(test_data[\"clean_text\"]):\n",
    "    tokens = doc.split()\n",
    "    embeddings = [skipgram_model.wv[token] for token in tokens if token in skipgram_model.wv]\n",
    "    if embeddings:\n",
    "        test_skipgram[i] = np.mean(embeddings, axis=0)"
   ]
  },
  {
   "cell_type": "markdown",
   "id": "7VMSklKhHj9e",
   "metadata": {
    "id": "7VMSklKhHj9e"
   },
   "source": [
    "# Modeling"
   ]
  },
  {
   "cell_type": "code",
   "execution_count": 82,
   "id": "5e3506ea",
   "metadata": {},
   "outputs": [],
   "source": [
    "# Define a parameter grid to search over\n",
    "param_grid = {'C': [0.1, 1, 10]}"
   ]
  },
  {
   "cell_type": "markdown",
   "id": "ba493bd7",
   "metadata": {
    "id": "ba493bd7"
   },
   "source": [
    "## Logistic Regression"
   ]
  },
  {
   "cell_type": "markdown",
   "id": "1UizJ1aBHyht",
   "metadata": {
    "id": "1UizJ1aBHyht"
   },
   "source": [
    "#### Logistic Regression - BOW"
   ]
  },
  {
   "cell_type": "code",
   "execution_count": 182,
   "id": "6c4333a5",
   "metadata": {
    "id": "6c4333a5"
   },
   "outputs": [],
   "source": [
    "lr_bow = LogisticRegression()"
   ]
  },
  {
   "cell_type": "code",
   "execution_count": 183,
   "id": "80e2b3c9",
   "metadata": {},
   "outputs": [],
   "source": [
    "grid_search_lr_bow = GridSearchCV(lr_bow, param_grid, cv=5)"
   ]
  },
  {
   "cell_type": "code",
   "execution_count": 184,
   "id": "7c5ead17",
   "metadata": {
    "colab": {
     "base_uri": "https://localhost:8080/"
    },
    "id": "7c5ead17",
    "outputId": "965ac2b4-caac-4b89-f3a6-9de2d2375421"
   },
   "outputs": [
    {
     "data": {
      "text/plain": [
       "GridSearchCV(cv=5, estimator=LogisticRegression(),\n",
       "             param_grid={'C': [0.1, 1, 10]})"
      ]
     },
     "execution_count": 184,
     "metadata": {},
     "output_type": "execute_result"
    }
   ],
   "source": [
    "# train the model on the training set\n",
    "grid_search_lr_bow.fit(train_bow, train_data['Score'])"
   ]
  },
  {
   "cell_type": "code",
   "execution_count": 185,
   "id": "0aef069a",
   "metadata": {},
   "outputs": [
    {
     "name": "stdout",
     "output_type": "stream",
     "text": [
      "Best hyperparameters: {'C': 0.1}\n"
     ]
    }
   ],
   "source": [
    "# Print the best hyperparameters\n",
    "print('Best hyperparameters:', grid_search_bow.best_params_)"
   ]
  },
  {
   "cell_type": "markdown",
   "id": "fff46f4a",
   "metadata": {
    "id": "fff46f4a"
   },
   "source": [
    "#### Logistic Regression - n-gram"
   ]
  },
  {
   "cell_type": "code",
   "execution_count": 145,
   "id": "7bfcd8e4",
   "metadata": {
    "id": "6c4333a5"
   },
   "outputs": [],
   "source": [
    "lr_ngram = LogisticRegression()"
   ]
  },
  {
   "cell_type": "code",
   "execution_count": 146,
   "id": "2a5738c1",
   "metadata": {},
   "outputs": [],
   "source": [
    "grid_search_lr_ngram = GridSearchCV(lr_ngram, param_grid, cv=5)"
   ]
  },
  {
   "cell_type": "code",
   "execution_count": 147,
   "id": "aa46bbfb",
   "metadata": {
    "colab": {
     "base_uri": "https://localhost:8080/"
    },
    "id": "7c5ead17",
    "outputId": "965ac2b4-caac-4b89-f3a6-9de2d2375421"
   },
   "outputs": [
    {
     "data": {
      "text/plain": [
       "GridSearchCV(cv=5, estimator=LogisticRegression(),\n",
       "             param_grid={'C': [0.1, 1, 10]})"
      ]
     },
     "execution_count": 147,
     "metadata": {},
     "output_type": "execute_result"
    }
   ],
   "source": [
    "# train the model on the training set\n",
    "grid_search_lr_ngram.fit(train_ngram, train_data['Score'])"
   ]
  },
  {
   "cell_type": "code",
   "execution_count": 148,
   "id": "ff5fc74f",
   "metadata": {},
   "outputs": [
    {
     "name": "stdout",
     "output_type": "stream",
     "text": [
      "Best hyperparameters: {'C': 0.1}\n"
     ]
    }
   ],
   "source": [
    "# Print the best hyperparameters\n",
    "print('Best hyperparameters:', grid_search_lr_ngram.best_params_)"
   ]
  },
  {
   "cell_type": "markdown",
   "id": "972dfa01",
   "metadata": {
    "id": "972dfa01"
   },
   "source": [
    "#### Logistic Regression - TF-IDF"
   ]
  },
  {
   "cell_type": "code",
   "execution_count": 149,
   "id": "803de85f",
   "metadata": {
    "id": "6c4333a5"
   },
   "outputs": [],
   "source": [
    "lr_tfidf = LogisticRegression()"
   ]
  },
  {
   "cell_type": "code",
   "execution_count": 150,
   "id": "426891f1",
   "metadata": {},
   "outputs": [],
   "source": [
    "grid_search_lr_tfidf = GridSearchCV(lr_tfidf, param_grid, cv=5)"
   ]
  },
  {
   "cell_type": "code",
   "execution_count": 151,
   "id": "1ba96f7e",
   "metadata": {
    "colab": {
     "base_uri": "https://localhost:8080/"
    },
    "id": "7c5ead17",
    "outputId": "965ac2b4-caac-4b89-f3a6-9de2d2375421"
   },
   "outputs": [
    {
     "data": {
      "text/plain": [
       "GridSearchCV(cv=5, estimator=LogisticRegression(),\n",
       "             param_grid={'C': [0.1, 1, 10]})"
      ]
     },
     "execution_count": 151,
     "metadata": {},
     "output_type": "execute_result"
    }
   ],
   "source": [
    "# train the model on the training set\n",
    "grid_search_lr_tfidf.fit(train_tfidf, train_data['Score'])"
   ]
  },
  {
   "cell_type": "code",
   "execution_count": 152,
   "id": "c69f9f72",
   "metadata": {},
   "outputs": [
    {
     "name": "stdout",
     "output_type": "stream",
     "text": [
      "Best hyperparameters: {'C': 10}\n"
     ]
    }
   ],
   "source": [
    "# Print the best hyperparameters\n",
    "print('Best hyperparameters:', grid_search_lr_tfidf.best_params_)"
   ]
  },
  {
   "cell_type": "markdown",
   "id": "3dfc98ac",
   "metadata": {},
   "source": [
    "#### Logistic Regression - CBOW"
   ]
  },
  {
   "cell_type": "code",
   "execution_count": 153,
   "id": "dd2f7342",
   "metadata": {},
   "outputs": [],
   "source": [
    "# Train Logistic Regression model on BOW features\n",
    "lr_cbow = LogisticRegression(max_iter=1000)"
   ]
  },
  {
   "cell_type": "code",
   "execution_count": 154,
   "id": "4df6aca5",
   "metadata": {},
   "outputs": [],
   "source": [
    "grid_search_lr_cbow = GridSearchCV(lr_cbow, param_grid, cv=5)"
   ]
  },
  {
   "cell_type": "code",
   "execution_count": 155,
   "id": "0f811dd0",
   "metadata": {
    "colab": {
     "base_uri": "https://localhost:8080/"
    },
    "id": "7c5ead17",
    "outputId": "965ac2b4-caac-4b89-f3a6-9de2d2375421"
   },
   "outputs": [
    {
     "data": {
      "text/plain": [
       "GridSearchCV(cv=5, estimator=LogisticRegression(max_iter=1000),\n",
       "             param_grid={'C': [0.1, 1, 10]})"
      ]
     },
     "execution_count": 155,
     "metadata": {},
     "output_type": "execute_result"
    }
   ],
   "source": [
    "# train the model on the training set\n",
    "grid_search_lr_cbow.fit(train_cbow, train_data['Score'])"
   ]
  },
  {
   "cell_type": "code",
   "execution_count": 156,
   "id": "b638f3b2",
   "metadata": {},
   "outputs": [
    {
     "name": "stdout",
     "output_type": "stream",
     "text": [
      "Best hyperparameters: {'C': 0.1}\n"
     ]
    }
   ],
   "source": [
    "# Print the best hyperparameters\n",
    "print('Best hyperparameters:', grid_search_lr_cbow.best_params_)"
   ]
  },
  {
   "cell_type": "markdown",
   "id": "690c1930",
   "metadata": {},
   "source": [
    "#### Logistic Regression - Skip Gram"
   ]
  },
  {
   "cell_type": "code",
   "execution_count": 157,
   "id": "905f778b",
   "metadata": {},
   "outputs": [],
   "source": [
    "lr_skipgram = LogisticRegression(max_iter=1000)"
   ]
  },
  {
   "cell_type": "code",
   "execution_count": 158,
   "id": "adfcac8f",
   "metadata": {},
   "outputs": [],
   "source": [
    "grid_search_lr_skipgram = GridSearchCV(lr_skipgram, param_grid, cv=5)"
   ]
  },
  {
   "cell_type": "code",
   "execution_count": 159,
   "id": "c10bceb4",
   "metadata": {
    "colab": {
     "base_uri": "https://localhost:8080/"
    },
    "id": "7c5ead17",
    "outputId": "965ac2b4-caac-4b89-f3a6-9de2d2375421"
   },
   "outputs": [
    {
     "data": {
      "text/plain": [
       "GridSearchCV(cv=5, estimator=LogisticRegression(max_iter=1000),\n",
       "             param_grid={'C': [0.1, 1, 10]})"
      ]
     },
     "execution_count": 159,
     "metadata": {},
     "output_type": "execute_result"
    }
   ],
   "source": [
    "# train the model on the training set\n",
    "grid_search_lr_skipgram.fit(train_skipgram, train_data['Score'])"
   ]
  },
  {
   "cell_type": "code",
   "execution_count": 160,
   "id": "8c31ea9b",
   "metadata": {},
   "outputs": [
    {
     "name": "stdout",
     "output_type": "stream",
     "text": [
      "Best hyperparameters: {'C': 0.1}\n"
     ]
    }
   ],
   "source": [
    "# Print the best hyperparameters\n",
    "print('Best hyperparameters:', grid_search_lr_skipgram.best_params_)"
   ]
  },
  {
   "cell_type": "markdown",
   "id": "a62386b3",
   "metadata": {
    "id": "a62386b3"
   },
   "source": [
    "## SVM"
   ]
  },
  {
   "cell_type": "markdown",
   "id": "d0062f1d",
   "metadata": {},
   "source": [
    "#### SVM - BOW"
   ]
  },
  {
   "cell_type": "code",
   "execution_count": 161,
   "id": "00a4d209",
   "metadata": {
    "id": "00a4d209"
   },
   "outputs": [],
   "source": [
    "svm_bow = SVC()"
   ]
  },
  {
   "cell_type": "code",
   "execution_count": 162,
   "id": "1a8525bb",
   "metadata": {},
   "outputs": [],
   "source": [
    "grid_search_svm_bow = GridSearchCV(svm_bow, param_grid, cv=5)"
   ]
  },
  {
   "cell_type": "code",
   "execution_count": 163,
   "id": "6dc596d9",
   "metadata": {
    "colab": {
     "base_uri": "https://localhost:8080/"
    },
    "id": "7c5ead17",
    "outputId": "965ac2b4-caac-4b89-f3a6-9de2d2375421"
   },
   "outputs": [
    {
     "data": {
      "text/plain": [
       "GridSearchCV(cv=5, estimator=SVC(), param_grid={'C': [0.1, 1, 10]})"
      ]
     },
     "execution_count": 163,
     "metadata": {},
     "output_type": "execute_result"
    }
   ],
   "source": [
    "# train the model on the training set\n",
    "grid_search_svm_bow.fit(train_bow, train_data['Score'])"
   ]
  },
  {
   "cell_type": "code",
   "execution_count": 164,
   "id": "0c5a421c",
   "metadata": {},
   "outputs": [
    {
     "name": "stdout",
     "output_type": "stream",
     "text": [
      "Best hyperparameters: {'C': 0.1}\n"
     ]
    }
   ],
   "source": [
    "# Print the best hyperparameters\n",
    "print('Best hyperparameters:', grid_search_svm_bow.best_params_)"
   ]
  },
  {
   "cell_type": "markdown",
   "id": "a67ae510",
   "metadata": {
    "id": "a67ae510"
   },
   "source": [
    "#### SVM - n-gram"
   ]
  },
  {
   "cell_type": "code",
   "execution_count": 165,
   "id": "5c1ef1a1",
   "metadata": {
    "id": "00a4d209"
   },
   "outputs": [],
   "source": [
    "svm_ngram = SVC()"
   ]
  },
  {
   "cell_type": "code",
   "execution_count": 166,
   "id": "1e69d55b",
   "metadata": {},
   "outputs": [],
   "source": [
    "grid_search_svm_ngram = GridSearchCV(svm_ngram, param_grid, cv=5)"
   ]
  },
  {
   "cell_type": "code",
   "execution_count": 167,
   "id": "ab190fa9",
   "metadata": {
    "colab": {
     "base_uri": "https://localhost:8080/"
    },
    "id": "7c5ead17",
    "outputId": "965ac2b4-caac-4b89-f3a6-9de2d2375421"
   },
   "outputs": [
    {
     "data": {
      "text/plain": [
       "GridSearchCV(cv=5, estimator=SVC(), param_grid={'C': [0.1, 1, 10]})"
      ]
     },
     "execution_count": 167,
     "metadata": {},
     "output_type": "execute_result"
    }
   ],
   "source": [
    "# train the model on the training set\n",
    "grid_search_svm_ngram.fit(train_ngram, train_data['Score'])"
   ]
  },
  {
   "cell_type": "code",
   "execution_count": 168,
   "id": "70fe6238",
   "metadata": {},
   "outputs": [
    {
     "name": "stdout",
     "output_type": "stream",
     "text": [
      "Best hyperparameters: {'C': 10}\n"
     ]
    }
   ],
   "source": [
    "# Print the best hyperparameters\n",
    "print('Best hyperparameters:', grid_search_svm_ngram.best_params_)"
   ]
  },
  {
   "cell_type": "markdown",
   "id": "8639eea3",
   "metadata": {
    "id": "8639eea3"
   },
   "source": [
    "#### SVM - TF-IDF"
   ]
  },
  {
   "cell_type": "code",
   "execution_count": 169,
   "id": "b8f93094",
   "metadata": {
    "id": "00a4d209"
   },
   "outputs": [],
   "source": [
    "svm_tfidf = SVC()"
   ]
  },
  {
   "cell_type": "code",
   "execution_count": 170,
   "id": "849dd55f",
   "metadata": {},
   "outputs": [],
   "source": [
    "grid_search_svm_tfidf = GridSearchCV(svm_tfidf, param_grid, cv=5)"
   ]
  },
  {
   "cell_type": "code",
   "execution_count": 171,
   "id": "d5fdf01f",
   "metadata": {
    "colab": {
     "base_uri": "https://localhost:8080/"
    },
    "id": "7c5ead17",
    "outputId": "965ac2b4-caac-4b89-f3a6-9de2d2375421"
   },
   "outputs": [
    {
     "data": {
      "text/plain": [
       "GridSearchCV(cv=5, estimator=SVC(), param_grid={'C': [0.1, 1, 10]})"
      ]
     },
     "execution_count": 171,
     "metadata": {},
     "output_type": "execute_result"
    }
   ],
   "source": [
    "# train the model on the training set\n",
    "grid_search_svm_tfidf.fit(train_tfidf, train_data['Score'])"
   ]
  },
  {
   "cell_type": "code",
   "execution_count": 172,
   "id": "6156a64e",
   "metadata": {},
   "outputs": [
    {
     "name": "stdout",
     "output_type": "stream",
     "text": [
      "Best hyperparameters: {'C': 0.1}\n"
     ]
    }
   ],
   "source": [
    "# Print the best hyperparameters\n",
    "print('Best hyperparameters:', grid_search_svm_tfidf.best_params_)"
   ]
  },
  {
   "cell_type": "markdown",
   "id": "fc62bfe5",
   "metadata": {
    "id": "972dfa01"
   },
   "source": [
    "#### SVM - CBOW"
   ]
  },
  {
   "cell_type": "code",
   "execution_count": 173,
   "id": "8074f60b",
   "metadata": {
    "id": "00a4d209"
   },
   "outputs": [],
   "source": [
    "svm_cbow = SVC()"
   ]
  },
  {
   "cell_type": "code",
   "execution_count": 174,
   "id": "d286b4d1",
   "metadata": {},
   "outputs": [],
   "source": [
    "grid_search_svm_cbow = GridSearchCV(svm_cbow, param_grid, cv=5)"
   ]
  },
  {
   "cell_type": "code",
   "execution_count": 175,
   "id": "d3f5bf60",
   "metadata": {
    "colab": {
     "base_uri": "https://localhost:8080/"
    },
    "id": "7c5ead17",
    "outputId": "965ac2b4-caac-4b89-f3a6-9de2d2375421"
   },
   "outputs": [
    {
     "data": {
      "text/plain": [
       "GridSearchCV(cv=5, estimator=SVC(), param_grid={'C': [0.1, 1, 10]})"
      ]
     },
     "execution_count": 175,
     "metadata": {},
     "output_type": "execute_result"
    }
   ],
   "source": [
    "# train the model on the training set\n",
    "grid_search_svm_cbow.fit(train_cbow, train_data['Score'])"
   ]
  },
  {
   "cell_type": "code",
   "execution_count": 176,
   "id": "35994726",
   "metadata": {},
   "outputs": [
    {
     "name": "stdout",
     "output_type": "stream",
     "text": [
      "Best hyperparameters: {'C': 0.1}\n"
     ]
    }
   ],
   "source": [
    "# Print the best hyperparameters\n",
    "print('Best hyperparameters:', grid_search_svm_cbow.best_params_)"
   ]
  },
  {
   "cell_type": "markdown",
   "id": "7d924d46",
   "metadata": {},
   "source": [
    "#### SVM - Skip Gram"
   ]
  },
  {
   "cell_type": "code",
   "execution_count": 177,
   "id": "b44c7bb5",
   "metadata": {},
   "outputs": [],
   "source": [
    "svm_skipgram = SVC()"
   ]
  },
  {
   "cell_type": "code",
   "execution_count": 178,
   "id": "f421d5a8",
   "metadata": {},
   "outputs": [],
   "source": [
    "grid_search_svm_skipgram = GridSearchCV(svm_skipgram, param_grid, cv=5)"
   ]
  },
  {
   "cell_type": "code",
   "execution_count": 179,
   "id": "ce17e2ba",
   "metadata": {
    "colab": {
     "base_uri": "https://localhost:8080/"
    },
    "id": "7c5ead17",
    "outputId": "965ac2b4-caac-4b89-f3a6-9de2d2375421"
   },
   "outputs": [
    {
     "data": {
      "text/plain": [
       "GridSearchCV(cv=5, estimator=SVC(), param_grid={'C': [0.1, 1, 10]})"
      ]
     },
     "execution_count": 179,
     "metadata": {},
     "output_type": "execute_result"
    }
   ],
   "source": [
    "# train the model on the training set\n",
    "grid_search_svm_skipgram.fit(train_skipgram, train_data['Score'])"
   ]
  },
  {
   "cell_type": "code",
   "execution_count": 180,
   "id": "d2261586",
   "metadata": {},
   "outputs": [
    {
     "name": "stdout",
     "output_type": "stream",
     "text": [
      "Best hyperparameters: {'C': 0.1}\n"
     ]
    }
   ],
   "source": [
    "# Print the best hyperparameters\n",
    "print('Best hyperparameters:', grid_search_svm_skipgram.best_params_)"
   ]
  },
  {
   "cell_type": "markdown",
   "id": "5d3b3310",
   "metadata": {},
   "source": [
    "## Model Evaluation"
   ]
  },
  {
   "cell_type": "markdown",
   "id": "20939e62",
   "metadata": {},
   "source": [
    "### 5.1. Logistic Regression"
   ]
  },
  {
   "cell_type": "markdown",
   "id": "6865e477",
   "metadata": {
    "id": "1UizJ1aBHyht"
   },
   "source": [
    "#### Logistic Regression - BOW"
   ]
  },
  {
   "cell_type": "code",
   "execution_count": 186,
   "id": "02ed269a",
   "metadata": {},
   "outputs": [],
   "source": [
    "best_lr_bow = grid_search_lr_bow.best_estimator_\n",
    "pred_lr_bow_train = best_lr_bow.predict(train_bow)"
   ]
  },
  {
   "cell_type": "code",
   "execution_count": 187,
   "id": "66318ef5",
   "metadata": {},
   "outputs": [
    {
     "name": "stdout",
     "output_type": "stream",
     "text": [
      "Training accuracy (BOW): 87.38%\n",
      "Training F1-score (BOW): 86.59%\n",
      ".............................................\n"
     ]
    },
    {
     "data": {
      "text/plain": [
       "<AxesSubplot: >"
      ]
     },
     "execution_count": 187,
     "metadata": {},
     "output_type": "execute_result"
    },
    {
     "data": {
      "image/png": "[encoded data removed]",
      "text/plain": [
       "<Figure size 600x400 with 2 Axes>"
      ]
     },
     "metadata": {},
     "output_type": "display_data"
    }
   ],
   "source": [
    "# Calculate accuracy, F1-score, and Confusion Matix on training set\n",
    "acc_lr_bow_train = accuracy_score(train_data[\"Score\"], pred_lr_bow_train)\n",
    "f1_lr_bow_train = f1_score(train_data[\"Score\"], pred_lr_bow_train, average='weighted')\n",
    "cm_lr_bow_train = confusion_matrix(train_data[\"Score\"], pred_lr_bow_train)\n",
    "\n",
    "\n",
    "print(\"Training accuracy (BOW): {:0.4g}%\".format((acc_lr_bow_train)*100))\n",
    "print(\"Training F1-score (BOW): {:0.4g}%\".format((f1_lr_bow_train)*100))\n",
    "\n",
    "print('...'*15)\n",
    "df_cm_lr_bow_train = pd.DataFrame(cm_lr_bow_train)\n",
    "plt.figure(figsize=(6,4))\n",
    "sns.heatmap(df_cm_lr_bow_train, annot=True)"
   ]
  },
  {
   "cell_type": "markdown",
   "id": "a72c4c39",
   "metadata": {
    "id": "1UizJ1aBHyht"
   },
   "source": [
    "#### Logistic Regression - n-gram"
   ]
  },
  {
   "cell_type": "code",
   "execution_count": 188,
   "id": "2f66dd7c",
   "metadata": {
    "id": "6f19500e"
   },
   "outputs": [],
   "source": [
    "# predict the labels for the test set\n",
    "best_lr_ngram = grid_search_lr_ngram.best_estimator_\n",
    "pred_lr_ngram_train = best_lr_ngram.predict(train_ngram)"
   ]
  },
  {
   "cell_type": "code",
   "execution_count": 189,
   "id": "8a303ef9",
   "metadata": {},
   "outputs": [
    {
     "name": "stdout",
     "output_type": "stream",
     "text": [
      "Training accuracy (n-gram): 96.38%\n",
      "Training F1-score (n-gram): 96.33%\n",
      ".............................................\n"
     ]
    },
    {
     "data": {
      "text/plain": [
       "<AxesSubplot: >"
      ]
     },
     "execution_count": 189,
     "metadata": {},
     "output_type": "execute_result"
    },
    {
     "data": {
      "image/png": "[encoded data removed]",
      "text/plain": [
       "<Figure size 600x400 with 2 Axes>"
      ]
     },
     "metadata": {},
     "output_type": "display_data"
    }
   ],
   "source": [
    "# Calculate accuracy, F1-score, and Confusion Matix on training set\n",
    "acc_lr_ngram_train = accuracy_score(train_data[\"Score\"], pred_lr_ngram_train)\n",
    "f1_lr_ngram_train = f1_score(train_data[\"Score\"], pred_lr_ngram_train, average='weighted')\n",
    "cm_lr_ngram_train = confusion_matrix(train_data[\"Score\"], pred_lr_ngram_train)\n",
    "\n",
    "\n",
    "print(\"Training accuracy (n-gram): {:0.4g}%\".format((acc_lr_ngram_train)*100))\n",
    "print(\"Training F1-score (n-gram): {:0.4g}%\".format((f1_lr_ngram_train)*100))\n",
    "\n",
    "print('...'*15)\n",
    "df_cm_lr_ngram_train = pd.DataFrame(cm_lr_ngram_train)\n",
    "plt.figure(figsize=(6,4))\n",
    "sns.heatmap(df_cm_lr_ngram_train, annot=True)"
   ]
  },
  {
   "cell_type": "markdown",
   "id": "0fee1aec",
   "metadata": {
    "id": "1UizJ1aBHyht"
   },
   "source": [
    "#### Logistic Regression - TF-IDF"
   ]
  },
  {
   "cell_type": "code",
   "execution_count": 190,
   "id": "82e4c056",
   "metadata": {
    "id": "a8f1681f"
   },
   "outputs": [],
   "source": [
    "# predict the labels for the test set\n",
    "best_lr_tfidf = grid_search_lr_tfidf.best_estimator_\n",
    "pred_lr_tfidf_train = best_lr_tfidf.predict(train_tfidf)"
   ]
  },
  {
   "cell_type": "code",
   "execution_count": 191,
   "id": "92c1eded",
   "metadata": {},
   "outputs": [
    {
     "name": "stdout",
     "output_type": "stream",
     "text": [
      "Training accuracy (TF-IDF): 100%\n",
      "Training F1-score (TF-IDF): 100%\n",
      ".............................................\n"
     ]
    },
    {
     "data": {
      "text/plain": [
       "<AxesSubplot: >"
      ]
     },
     "execution_count": 191,
     "metadata": {},
     "output_type": "execute_result"
    },
    {
     "data": {
      "image/png": "[encoded data removed]",
      "text/plain": [
       "<Figure size 600x400 with 2 Axes>"
      ]
     },
     "metadata": {},
     "output_type": "display_data"
    }
   ],
   "source": [
    "# Calculate accuracy, F1-score, and Confusion Matix on training set\n",
    "acc_lr_tfidf_train = accuracy_score(train_data[\"Score\"], pred_lr_tfidf_train)\n",
    "f1_lr_tfidf_train = f1_score(train_data[\"Score\"], pred_lr_tfidf_train, average='weighted')\n",
    "cm_lr_tfidf_train = confusion_matrix(train_data[\"Score\"], pred_lr_tfidf_train)\n",
    "\n",
    "\n",
    "print(\"Training accuracy (TF-IDF): {:0.4g}%\" .format((acc_lr_tfidf_train)*100))\n",
    "print(\"Training F1-score (TF-IDF): {:0.4g}%\".format((f1_lr_tfidf_train)*100))\n",
    "\n",
    "print('...'*15)\n",
    "df_cm_lr_tfidf_train = pd.DataFrame(cm_lr_tfidf_train)\n",
    "plt.figure(figsize=(6,4))\n",
    "sns.heatmap(df_cm_lr_tfidf_train, annot=True)"
   ]
  },
  {
   "cell_type": "markdown",
   "id": "32b2de41",
   "metadata": {
    "id": "1UizJ1aBHyht"
   },
   "source": [
    "#### Logistic Regression - CBOW"
   ]
  },
  {
   "cell_type": "code",
   "execution_count": 192,
   "id": "fc7cbf6d",
   "metadata": {},
   "outputs": [],
   "source": [
    "# Predict on test data and evaluate model\n",
    "best_lr_cbow = grid_search_lr_cbow.best_estimator_\n",
    "pred_lr_cbow_train = best_lr_cbow.predict(train_cbow)"
   ]
  },
  {
   "cell_type": "code",
   "execution_count": 193,
   "id": "62310cd5",
   "metadata": {},
   "outputs": [
    {
     "name": "stdout",
     "output_type": "stream",
     "text": [
      "Training accuracy (CBOW): 63.12%\n",
      "Training F1-score (CBOW): 48.86%\n",
      ".............................................\n"
     ]
    },
    {
     "data": {
      "text/plain": [
       "<AxesSubplot: >"
      ]
     },
     "execution_count": 193,
     "metadata": {},
     "output_type": "execute_result"
    },
    {
     "data": {
      "image/png": "[encoded data removed]",
      "text/plain": [
       "<Figure size 600x400 with 2 Axes>"
      ]
     },
     "metadata": {},
     "output_type": "display_data"
    }
   ],
   "source": [
    "# Calculate accuracy, F1-score, and Confusion Matix on training set\n",
    "acc_lr_cbow_train = accuracy_score(train_data[\"Score\"], pred_lr_cbow_train)\n",
    "f1_lr_cbow_train = f1_score(train_data[\"Score\"], pred_lr_cbow_train, average='weighted')\n",
    "cm_lr_cbow_train = confusion_matrix(train_data[\"Score\"], pred_lr_cbow_train)\n",
    "\n",
    "\n",
    "print(\"Training accuracy (CBOW): {:0.4g}%\".format((acc_lr_cbow_train)*100))\n",
    "print(\"Training F1-score (CBOW): {:0.4g}%\".format((f1_lr_cbow_train)*100))\n",
    "\n",
    "print('...'*15)\n",
    "df_cm_lr_cbow_train = pd.DataFrame(cm_lr_cbow_train)\n",
    "plt.figure(figsize=(6,4))\n",
    "sns.heatmap(df_cm_lr_cbow_train, annot=True)"
   ]
  },
  {
   "cell_type": "markdown",
   "id": "d57db3fe",
   "metadata": {
    "id": "1UizJ1aBHyht"
   },
   "source": [
    "#### Logistic Regression - Skip Gram"
   ]
  },
  {
   "cell_type": "code",
   "execution_count": 194,
   "id": "46a27e71",
   "metadata": {},
   "outputs": [],
   "source": [
    "best_lr_skipgram = grid_search_lr_skipgram.best_estimator_\n",
    "pred_lr_skipgram_train = best_lr_skipgram.predict(train_skipgram)"
   ]
  },
  {
   "cell_type": "code",
   "execution_count": 195,
   "id": "b217ad6c",
   "metadata": {
    "id": "a8f1681f"
   },
   "outputs": [
    {
     "name": "stdout",
     "output_type": "stream",
     "text": [
      "Training accuracy (Skip Gram): 63.12%\n",
      "Training F1-score (Skip Gram): 48.86%\n",
      ".............................................\n"
     ]
    },
    {
     "data": {
      "text/plain": [
       "<AxesSubplot: >"
      ]
     },
     "execution_count": 195,
     "metadata": {},
     "output_type": "execute_result"
    },
    {
     "data": {
      "image/png": "[encoded data removed]",
      "text/plain": [
       "<Figure size 600x400 with 2 Axes>"
      ]
     },
     "metadata": {},
     "output_type": "display_data"
    }
   ],
   "source": [
    "# Calculate accuracy, F1-score, and Confusion Matix on training set\n",
    "acc_lr_skipgram_train = accuracy_score(train_data[\"Score\"], pred_lr_skipgram_train)\n",
    "f1_lr_skipgram_train = f1_score(train_data[\"Score\"], pred_lr_skipgram_train, average='weighted')\n",
    "cm_lr_skipgram_train = confusion_matrix(train_data[\"Score\"], pred_lr_skipgram_train)\n",
    "\n",
    "\n",
    "print(\"Training accuracy (Skip Gram): {:0.4g}%\".format((acc_lr_skipgram_train)*100))\n",
    "print(\"Training F1-score (Skip Gram): {:0.4g}%\".format((f1_lr_skipgram_train)*100))\n",
    "\n",
    "print('...'*15)\n",
    "df_cm_lr_skipgram_train = pd.DataFrame(cm_lr_skipgram_train)\n",
    "plt.figure(figsize=(6,4))\n",
    "sns.heatmap(df_cm_lr_skipgram_train, annot=True)"
   ]
  },
  {
   "cell_type": "markdown",
   "id": "c2415c07",
   "metadata": {},
   "source": [
    "### SVM"
   ]
  },
  {
   "cell_type": "markdown",
   "id": "9dff9f52",
   "metadata": {
    "id": "1UizJ1aBHyht"
   },
   "source": [
    "#### SVM - BOW"
   ]
  },
  {
   "cell_type": "code",
   "execution_count": 196,
   "id": "fe26d035",
   "metadata": {
    "id": "903bebae"
   },
   "outputs": [],
   "source": [
    "# predict the labels for the test set\n",
    "best_svm_bow = grid_search_svm_bow.best_estimator_\n",
    "pred_svm_bow_train = best_svm_bow.predict(train_bow)"
   ]
  },
  {
   "cell_type": "code",
   "execution_count": 197,
   "id": "b583ca02",
   "metadata": {},
   "outputs": [
    {
     "name": "stdout",
     "output_type": "stream",
     "text": [
      "Training accuracy (BOW): 63.12%\n",
      "Training F1-score (BOW): 48.86%\n",
      ".............................................\n"
     ]
    },
    {
     "data": {
      "text/plain": [
       "<AxesSubplot: >"
      ]
     },
     "execution_count": 197,
     "metadata": {},
     "output_type": "execute_result"
    },
    {
     "data": {
      "image/png": "[encoded data removed]",
      "text/plain": [
       "<Figure size 600x400 with 2 Axes>"
      ]
     },
     "metadata": {},
     "output_type": "display_data"
    }
   ],
   "source": [
    "# Calculate accuracy, F1-score, and Confusion Matix on training set\n",
    "acc_svm_bow_train = accuracy_score(train_data[\"Score\"], pred_svm_bow_train)\n",
    "f1_svm_bow_train = f1_score(train_data[\"Score\"], pred_svm_bow_train, average='weighted')\n",
    "cm_svm_bow_train = confusion_matrix(train_data[\"Score\"], pred_svm_bow_train)\n",
    "\n",
    "\n",
    "print(\"Training accuracy (BOW): {:0.4g}%\".format((acc_svm_bow_train)*100))\n",
    "print(\"Training F1-score (BOW): {:0.4g}%\".format((f1_svm_bow_train)*100))\n",
    "\n",
    "print('...'*15)\n",
    "df_cm_svm_bow_train = pd.DataFrame(cm_svm_bow_train)\n",
    "plt.figure(figsize=(6,4))\n",
    "sns.heatmap(df_cm_svm_bow_train, annot=True)"
   ]
  },
  {
   "cell_type": "markdown",
   "id": "df7e71a8",
   "metadata": {
    "id": "1UizJ1aBHyht"
   },
   "source": [
    "#### SVM - n-gram"
   ]
  },
  {
   "cell_type": "code",
   "execution_count": 198,
   "id": "0a948d4b",
   "metadata": {
    "id": "6562ed7f"
   },
   "outputs": [],
   "source": [
    "# predict the labels for the test set\n",
    "best_svm_ngram = grid_search_svm_ngram.best_estimator_\n",
    "pred_svm_ngram_train = best_svm_ngram.predict(train_ngram)"
   ]
  },
  {
   "cell_type": "code",
   "execution_count": 199,
   "id": "c994e84f",
   "metadata": {},
   "outputs": [
    {
     "name": "stdout",
     "output_type": "stream",
     "text": [
      "Training accuracy (n-gram): 100%\n",
      "Training F1-score (n-gram): 100%\n",
      ".............................................\n"
     ]
    },
    {
     "data": {
      "text/plain": [
       "<AxesSubplot: >"
      ]
     },
     "execution_count": 199,
     "metadata": {},
     "output_type": "execute_result"
    },
    {
     "data": {
      "image/png": "[encoded data removed]",
      "text/plain": [
       "<Figure size 600x400 with 2 Axes>"
      ]
     },
     "metadata": {},
     "output_type": "display_data"
    }
   ],
   "source": [
    "# Calculate accuracy, F1-score, and Confusion Matix on training set\n",
    "acc_svm_ngram_train = accuracy_score(train_data[\"Score\"], pred_svm_ngram_train)\n",
    "f1_svm_ngram_train = f1_score(train_data[\"Score\"], pred_svm_ngram_train, average='weighted')\n",
    "cm_svm_ngram_train = confusion_matrix(train_data[\"Score\"], pred_svm_ngram_train)\n",
    "\n",
    "\n",
    "print(\"Training accuracy (n-gram): {:0.4g}%\".format((acc_svm_ngram_train)*100))\n",
    "print(\"Training F1-score (n-gram): {:0.4g}%\".format((f1_svm_ngram_train)*100))\n",
    "\n",
    "print('...'*15)\n",
    "df_cm_svm_ngram_train = pd.DataFrame(cm_svm_ngram_train)\n",
    "plt.figure(figsize=(6,4))\n",
    "sns.heatmap(df_cm_svm_ngram_train, annot=True)"
   ]
  },
  {
   "cell_type": "markdown",
   "id": "e9291990",
   "metadata": {
    "id": "1UizJ1aBHyht"
   },
   "source": [
    "#### SVM - TF-IDF"
   ]
  },
  {
   "cell_type": "code",
   "execution_count": 200,
   "id": "a2356552",
   "metadata": {
    "id": "b9f1d8aa"
   },
   "outputs": [],
   "source": [
    "# predict the labels for the test set\n",
    "best_svm_tfidf = grid_search_svm_tfidf.best_estimator_\n",
    "pred_svm_tfidf_train = best_svm_tfidf.predict(train_tfidf)"
   ]
  },
  {
   "cell_type": "code",
   "execution_count": 201,
   "id": "62d02632",
   "metadata": {},
   "outputs": [
    {
     "name": "stdout",
     "output_type": "stream",
     "text": [
      "Training accuracy (TF-IDF): 63.12%\n",
      "Training F1-score (TF-IDF): 48.86%\n",
      ".............................................\n"
     ]
    },
    {
     "data": {
      "text/plain": [
       "<AxesSubplot: >"
      ]
     },
     "execution_count": 201,
     "metadata": {},
     "output_type": "execute_result"
    },
    {
     "data": {
      "image/png": "[encoded data removed]",
      "text/plain": [
       "<Figure size 600x400 with 2 Axes>"
      ]
     },
     "metadata": {},
     "output_type": "display_data"
    }
   ],
   "source": [
    "# Calculate accuracy, F1-score, and Confusion Matix on training set\n",
    "acc_svm_tfidf_train = accuracy_score(train_data[\"Score\"], pred_svm_tfidf_train)\n",
    "f1_svm_tfidf_train = f1_score(train_data[\"Score\"], pred_svm_tfidf_train, average='weighted')\n",
    "cm_svm_tfidf_train = confusion_matrix(train_data[\"Score\"], pred_svm_tfidf_train)\n",
    "\n",
    "\n",
    "print(\"Training accuracy (TF-IDF): {:0.4g}%\".format((acc_svm_tfidf_train)*100))\n",
    "print(\"Training F1-score (TF-IDF): {:0.4g}%\".format((f1_svm_tfidf_train)*100))\n",
    "\n",
    "print('...'*15)\n",
    "df_cm_svm_tfidf_train = pd.DataFrame(cm_svm_tfidf_train)\n",
    "plt.figure(figsize=(6,4))\n",
    "sns.heatmap(df_cm_svm_tfidf_train, annot=True)"
   ]
  },
  {
   "cell_type": "markdown",
   "id": "d9166b94",
   "metadata": {
    "id": "1UizJ1aBHyht"
   },
   "source": [
    "#### SVM - CBOW"
   ]
  },
  {
   "cell_type": "code",
   "execution_count": 202,
   "id": "83a24298",
   "metadata": {},
   "outputs": [],
   "source": [
    "# evaluate the model on the test set\n",
    "best_svm_cbow = grid_search_svm_cbow.best_estimator_\n",
    "pred_svm_cbow_train = best_svm_cbow.predict(train_cbow)"
   ]
  },
  {
   "cell_type": "code",
   "execution_count": 203,
   "id": "77df7476",
   "metadata": {},
   "outputs": [
    {
     "name": "stdout",
     "output_type": "stream",
     "text": [
      "Training accuracy (CBOW): 63.12%\n",
      "Training F1-score (CBOW): 48.86%\n",
      ".............................................\n"
     ]
    },
    {
     "data": {
      "text/plain": [
       "<AxesSubplot: >"
      ]
     },
     "execution_count": 203,
     "metadata": {},
     "output_type": "execute_result"
    },
    {
     "data": {
      "image/png": "[encoded data removed]",
      "text/plain": [
       "<Figure size 600x400 with 2 Axes>"
      ]
     },
     "metadata": {},
     "output_type": "display_data"
    }
   ],
   "source": [
    "# Calculate accuracy, F1-score, and Confusion Matix on training set\n",
    "acc_svm_cbow_train = accuracy_score(train_data[\"Score\"], pred_svm_cbow_train)\n",
    "f1_svm_cbow_train = f1_score(train_data[\"Score\"], pred_svm_cbow_train, average='weighted')\n",
    "cm_svm_cbow_train = confusion_matrix(train_data[\"Score\"], pred_svm_cbow_train)\n",
    "\n",
    "\n",
    "print(\"Training accuracy (CBOW): {:0.4g}%\".format((acc_svm_cbow_train)*100))\n",
    "print(\"Training F1-score (CBOW): {:0.4g}%\".format((f1_svm_cbow_train)*100))\n",
    "\n",
    "print('...'*15)\n",
    "df_cm_svm_cbow_train = pd.DataFrame(cm_svm_cbow_train)\n",
    "plt.figure(figsize=(6,4))\n",
    "sns.heatmap(df_cm_svm_cbow_train, annot=True)"
   ]
  },
  {
   "cell_type": "markdown",
   "id": "269cf0c3",
   "metadata": {
    "id": "1UizJ1aBHyht"
   },
   "source": [
    "#### SVM - Skip Gram"
   ]
  },
  {
   "cell_type": "code",
   "execution_count": 204,
   "id": "cb09b4f1",
   "metadata": {},
   "outputs": [],
   "source": [
    "# evaluate the model on the test set\n",
    "best_svm_skipgram = grid_search_svm_skipgram.best_estimator_\n",
    "pred_svm_skipgram_train = best_svm_skipgram.predict(train_skipgram)"
   ]
  },
  {
   "cell_type": "code",
   "execution_count": 205,
   "id": "2ad6e0a9",
   "metadata": {},
   "outputs": [
    {
     "name": "stdout",
     "output_type": "stream",
     "text": [
      "Training accuracy (Skip Gram): 63.12%\n",
      "Training F1-score (Skip Gram): 48.86%\n",
      ".............................................\n"
     ]
    },
    {
     "data": {
      "text/plain": [
       "<AxesSubplot: >"
      ]
     },
     "execution_count": 205,
     "metadata": {},
     "output_type": "execute_result"
    },
    {
     "data": {
      "image/png": "[encoded data removed]",
      "text/plain": [
       "<Figure size 600x400 with 2 Axes>"
      ]
     },
     "metadata": {},
     "output_type": "display_data"
    }
   ],
   "source": [
    "# Calculate accuracy, F1-score, and Confusion Matix on training set\n",
    "acc_svm_skipgram_train = accuracy_score(train_data[\"Score\"], pred_svm_skipgram_train)\n",
    "f1_svm_skipgram_train = f1_score(train_data[\"Score\"], pred_svm_skipgram_train, average='weighted')\n",
    "cm_svm_skipgram_train = confusion_matrix(train_data[\"Score\"], pred_svm_skipgram_train)\n",
    "\n",
    "\n",
    "print(\"Training accuracy (Skip Gram): {:0.4g}%\".format((acc_svm_skipgram_train)*100))\n",
    "print(\"Training F1-score (Skip Gram): {:0.4g}%\".format((f1_svm_skipgram_train)*100))\n",
    "\n",
    "print('...'*15)\n",
    "df_cm_svm_skipgram_train = pd.DataFrame(cm_svm_skipgram_train)\n",
    "plt.figure(figsize=(6,4))\n",
    "sns.heatmap(df_cm_svm_skipgram_train, annot=True)"
   ]
  },
  {
   "cell_type": "markdown",
   "id": "8411a9c0",
   "metadata": {},
   "source": [
    "## Evaluate the model on the test set"
   ]
  },
  {
   "cell_type": "markdown",
   "id": "28c3e236",
   "metadata": {},
   "source": [
    "### Logistic Regression"
   ]
  },
  {
   "cell_type": "markdown",
   "id": "4f49f0e6",
   "metadata": {
    "id": "1UizJ1aBHyht"
   },
   "source": [
    "#### Logistic Regression - BOW"
   ]
  },
  {
   "cell_type": "code",
   "execution_count": 207,
   "id": "bb955cf2",
   "metadata": {
    "id": "c51d11fa"
   },
   "outputs": [],
   "source": [
    "# predict the labels for the test set\n",
    "best_lr_bow = grid_search_lr_bow.best_estimator_\n",
    "pred_lr_bow_test = best_lr_bow.predict(test_bow)"
   ]
  },
  {
   "cell_type": "code",
   "execution_count": 208,
   "id": "1d7a2344",
   "metadata": {},
   "outputs": [
    {
     "name": "stdout",
     "output_type": "stream",
     "text": [
      "Training accuracy (BOW): 71.5%\n",
      "Training F1-score (BOW): 62.72%\n",
      ".............................................\n"
     ]
    },
    {
     "data": {
      "text/plain": [
       "<AxesSubplot: >"
      ]
     },
     "execution_count": 208,
     "metadata": {},
     "output_type": "execute_result"
    },
    {
     "data": {
      "image/png": "[encoded data removed]",
      "text/plain": [
       "<Figure size 600x400 with 2 Axes>"
      ]
     },
     "metadata": {},
     "output_type": "display_data"
    }
   ],
   "source": [
    "# Calculate accuracy, F1-score, and Confusion Matix on training set\n",
    "acc_lr_bow_test = accuracy_score(test_data[\"Score\"], pred_lr_bow_test)\n",
    "f1_lr_bow_test = f1_score(test_data[\"Score\"], pred_lr_bow_test, average='weighted')\n",
    "cm_lr_bow_test = confusion_matrix(test_data[\"Score\"], pred_lr_bow_test)\n",
    "\n",
    "\n",
    "print(\"Training accuracy (BOW): {:0.4g}%\".format((acc_lr_bow_test)*100))\n",
    "print(\"Training F1-score (BOW): {:0.4g}%\".format((f1_lr_bow_test)*100))\n",
    "\n",
    "print('...'*15)\n",
    "df_cm_lr_bow_test = pd.DataFrame(cm_lr_bow_test)\n",
    "plt.figure(figsize=(6,4))\n",
    "sns.heatmap(df_cm_lr_bow_test, annot=True)"
   ]
  },
  {
   "cell_type": "markdown",
   "id": "71c57cb6",
   "metadata": {
    "id": "1UizJ1aBHyht"
   },
   "source": [
    "#### Logistic Regression - n-gram"
   ]
  },
  {
   "cell_type": "code",
   "execution_count": 209,
   "id": "f74e826f",
   "metadata": {
    "id": "6f19500e"
   },
   "outputs": [],
   "source": [
    "# predict the labels for the test set\n",
    "best_lr_ngram = grid_search_lr_ngram.best_estimator_\n",
    "pred_lr_ngram_test = best_lr_ngram.predict(test_ngram)"
   ]
  },
  {
   "cell_type": "code",
   "execution_count": 210,
   "id": "b1c9561b",
   "metadata": {},
   "outputs": [
    {
     "name": "stdout",
     "output_type": "stream",
     "text": [
      "Training accuracy (n-gram): 69%\n",
      "Training F1-score (n-gram): 58%\n",
      ".............................................\n"
     ]
    },
    {
     "data": {
      "text/plain": [
       "<AxesSubplot: >"
      ]
     },
     "execution_count": 210,
     "metadata": {},
     "output_type": "execute_result"
    },
    {
     "data": {
      "image/png": "[encoded data removed]",
      "text/plain": [
       "<Figure size 600x400 with 2 Axes>"
      ]
     },
     "metadata": {},
     "output_type": "display_data"
    }
   ],
   "source": [
    "# Calculate accuracy, F1-score, and Confusion Matix on training set\n",
    "acc_lr_ngram_test = accuracy_score(test_data[\"Score\"], pred_lr_ngram_test)\n",
    "f1_lr_ngram_test = f1_score(test_data[\"Score\"], pred_lr_ngram_test, average='weighted')\n",
    "cm_lr_ngram_test = confusion_matrix(test_data[\"Score\"], pred_lr_ngram_test)\n",
    "\n",
    "\n",
    "print(\"Training accuracy (n-gram): {:0.4g}%\".format((acc_lr_ngram_test)*100))\n",
    "print(\"Training F1-score (n-gram): {:0.4g}%\".format((f1_lr_ngram_test)*100))\n",
    "\n",
    "print('...'*15)\n",
    "df_cm_lr_ngram_test = pd.DataFrame(cm_lr_ngram_test)\n",
    "plt.figure(figsize=(6,4))\n",
    "sns.heatmap(df_cm_lr_ngram_test, annot=True)"
   ]
  },
  {
   "cell_type": "markdown",
   "id": "902191a4",
   "metadata": {
    "id": "1UizJ1aBHyht"
   },
   "source": [
    "#### Logistic Regression - TF-IDF"
   ]
  },
  {
   "cell_type": "code",
   "execution_count": 211,
   "id": "92d3a067",
   "metadata": {
    "id": "a8f1681f"
   },
   "outputs": [],
   "source": [
    "# predict the labels for the test set\n",
    "best_lr_tfidf = grid_search_lr_tfidf.best_estimator_\n",
    "pred_lr_tfidf_test = best_lr_tfidf.predict(test_tfidf)"
   ]
  },
  {
   "cell_type": "code",
   "execution_count": 212,
   "id": "b2975291",
   "metadata": {},
   "outputs": [
    {
     "name": "stdout",
     "output_type": "stream",
     "text": [
      "Training accuracy (TF-IDF): 71.5%\n",
      "Training F1-score (TF-IDF): 64.05%\n",
      ".............................................\n"
     ]
    },
    {
     "data": {
      "text/plain": [
       "<AxesSubplot: >"
      ]
     },
     "execution_count": 212,
     "metadata": {},
     "output_type": "execute_result"
    },
    {
     "data": {
      "image/png": "[encoded data removed]",
      "text/plain": [
       "<Figure size 600x400 with 2 Axes>"
      ]
     },
     "metadata": {},
     "output_type": "display_data"
    }
   ],
   "source": [
    "# Calculate accuracy, F1-score, and Confusion Matix on training set\n",
    "acc_lr_tfidf_test = accuracy_score(test_data[\"Score\"], pred_lr_tfidf_test)\n",
    "f1_lr_tfidf_test = f1_score(test_data[\"Score\"], pred_lr_tfidf_test, average='weighted')\n",
    "cm_lr_tfidf_test = confusion_matrix(test_data[\"Score\"], pred_lr_tfidf_test)\n",
    "\n",
    "\n",
    "print(\"Training accuracy (TF-IDF): {:0.4g}%\".format((acc_lr_tfidf_test)*100))\n",
    "print(\"Training F1-score (TF-IDF): {:0.4g}%\".format((f1_lr_tfidf_test)*100))\n",
    "\n",
    "print('...'*15)\n",
    "df_cm_lr_tfidf_test = pd.DataFrame(cm_lr_tfidf_test)\n",
    "plt.figure(figsize=(6,4))\n",
    "sns.heatmap(df_cm_lr_tfidf_test, annot=True)"
   ]
  },
  {
   "cell_type": "markdown",
   "id": "1bd16f5a",
   "metadata": {
    "id": "1UizJ1aBHyht"
   },
   "source": [
    "#### Logistic Regression - CBOW"
   ]
  },
  {
   "cell_type": "code",
   "execution_count": 213,
   "id": "36f72546",
   "metadata": {},
   "outputs": [],
   "source": [
    "# Predict on test data and evaluate model\n",
    "best_lr_cbow = grid_search_lr_cbow.best_estimator_\n",
    "pred_lr_cbow_test = best_lr_cbow.predict(test_cbow)"
   ]
  },
  {
   "cell_type": "code",
   "execution_count": 214,
   "id": "3842dc6b",
   "metadata": {},
   "outputs": [
    {
     "name": "stdout",
     "output_type": "stream",
     "text": [
      "Training accuracy (CBOW): 68.5%\n",
      "Training F1-score (CBOW): 55.69%\n",
      ".............................................\n"
     ]
    },
    {
     "data": {
      "text/plain": [
       "<AxesSubplot: >"
      ]
     },
     "execution_count": 214,
     "metadata": {},
     "output_type": "execute_result"
    },
    {
     "data": {
      "image/png": "[encoded data removed]",
      "text/plain": [
       "<Figure size 600x400 with 2 Axes>"
      ]
     },
     "metadata": {},
     "output_type": "display_data"
    }
   ],
   "source": [
    "# Calculate accuracy, F1-score, and Confusion Matix on training set\n",
    "acc_lr_cbow_test = accuracy_score(test_data[\"Score\"], pred_lr_cbow_test)\n",
    "f1_lr_cbow_test = f1_score(test_data[\"Score\"], pred_lr_cbow_test, average='weighted')\n",
    "cm_lr_cbow_test = confusion_matrix(test_data[\"Score\"], pred_lr_cbow_test)\n",
    "\n",
    "\n",
    "print(\"Training accuracy (CBOW): {:0.4g}%\".format((acc_lr_cbow_test)*100))\n",
    "print(\"Training F1-score (CBOW): {:0.4g}%\".format((f1_lr_cbow_test)*100))\n",
    "\n",
    "print('...'*15)\n",
    "df_cm_lr_cbow_test = pd.DataFrame(cm_lr_cbow_test)\n",
    "plt.figure(figsize=(6,4))\n",
    "sns.heatmap(df_cm_lr_cbow_test, annot=True)"
   ]
  },
  {
   "cell_type": "markdown",
   "id": "c69c7d19",
   "metadata": {
    "id": "1UizJ1aBHyht"
   },
   "source": [
    "#### Logistic Regression - Skip Gram"
   ]
  },
  {
   "cell_type": "code",
   "execution_count": 215,
   "id": "7cb269fa",
   "metadata": {},
   "outputs": [],
   "source": [
    "best_lr_skipgram = grid_search_lr_skipgram.best_estimator_\n",
    "pred_lr_skipgram_test = best_lr_skipgram.predict(test_skipgram)"
   ]
  },
  {
   "cell_type": "code",
   "execution_count": 216,
   "id": "bca16319",
   "metadata": {},
   "outputs": [
    {
     "name": "stdout",
     "output_type": "stream",
     "text": [
      "Training accuracy (Skip Gram): 68.5%\n",
      "Training F1-score (Skip Gram): 55.69%\n",
      ".............................................\n"
     ]
    },
    {
     "data": {
      "text/plain": [
       "<AxesSubplot: >"
      ]
     },
     "execution_count": 216,
     "metadata": {},
     "output_type": "execute_result"
    },
    {
     "data": {
      "image/png": "[encoded data removed]",
      "text/plain": [
       "<Figure size 600x400 with 2 Axes>"
      ]
     },
     "metadata": {},
     "output_type": "display_data"
    }
   ],
   "source": [
    "# Calculate accuracy, F1-score, and Confusion Matix on training set\n",
    "acc_lr_skipgram_test = accuracy_score(test_data[\"Score\"], pred_lr_skipgram_test)\n",
    "f1_lr_skipgram_test = f1_score(test_data[\"Score\"], pred_lr_skipgram_test, average='weighted')\n",
    "cm_lr_skipgram_test = confusion_matrix(test_data[\"Score\"], pred_lr_skipgram_test)\n",
    "\n",
    "\n",
    "print(\"Training accuracy (Skip Gram): {:0.4g}%\".format((acc_lr_skipgram_test)*100))\n",
    "print(\"Training F1-score (Skip Gram): {:0.4g}%\".format((f1_lr_skipgram_test)*100))\n",
    "\n",
    "print('...'*15)\n",
    "df_cm_lr_skipgram_test = pd.DataFrame(cm_lr_skipgram_test)\n",
    "plt.figure(figsize=(6,4))\n",
    "sns.heatmap(df_cm_lr_skipgram_test, annot=True)"
   ]
  },
  {
   "cell_type": "markdown",
   "id": "621c58bb",
   "metadata": {},
   "source": [
    "### SVM"
   ]
  },
  {
   "cell_type": "markdown",
   "id": "7e7a751f",
   "metadata": {
    "id": "1UizJ1aBHyht"
   },
   "source": [
    "#### SVM - BOW"
   ]
  },
  {
   "cell_type": "code",
   "execution_count": 217,
   "id": "f7749960",
   "metadata": {
    "id": "903bebae"
   },
   "outputs": [],
   "source": [
    "# predict the labels for the test set\n",
    "best_svm_bow = grid_search_svm_bow.best_estimator_\n",
    "pred_svm_bow_test = best_svm_bow.predict(test_bow)"
   ]
  },
  {
   "cell_type": "code",
   "execution_count": 218,
   "id": "87cae96c",
   "metadata": {},
   "outputs": [
    {
     "name": "stdout",
     "output_type": "stream",
     "text": [
      "Training accuracy (BOW): 68.5%\n",
      "Training F1-score (BOW): 55.69%\n",
      ".............................................\n"
     ]
    },
    {
     "data": {
      "text/plain": [
       "<AxesSubplot: >"
      ]
     },
     "execution_count": 218,
     "metadata": {},
     "output_type": "execute_result"
    },
    {
     "data": {
      "image/png": "[encoded data removed]",
      "text/plain": [
       "<Figure size 600x400 with 2 Axes>"
      ]
     },
     "metadata": {},
     "output_type": "display_data"
    }
   ],
   "source": [
    "# Calculate accuracy, F1-score, and Confusion Matix on training set\n",
    "acc_svm_bow_test = accuracy_score(test_data[\"Score\"], pred_svm_bow_test)\n",
    "f1_svm_bow_test = f1_score(test_data[\"Score\"], pred_svm_bow_test, average='weighted')\n",
    "cm_svm_bow_test = confusion_matrix(test_data[\"Score\"], pred_svm_bow_test)\n",
    "\n",
    "\n",
    "print(\"Training accuracy (BOW): {:0.4g}%\".format((acc_svm_bow_test)*100))\n",
    "print(\"Training F1-score (BOW): {:0.4g}%\".format((f1_svm_bow_test)*100))\n",
    "\n",
    "print('...'*15)\n",
    "df_cm_svm_bow_test = pd.DataFrame(cm_svm_bow_test)\n",
    "plt.figure(figsize=(6,4))\n",
    "sns.heatmap(df_cm_svm_bow_test, annot=True)"
   ]
  },
  {
   "cell_type": "markdown",
   "id": "cc8aec0e",
   "metadata": {
    "id": "1UizJ1aBHyht"
   },
   "source": [
    "#### SVM - n-gram"
   ]
  },
  {
   "cell_type": "code",
   "execution_count": 219,
   "id": "68492618",
   "metadata": {
    "id": "6562ed7f"
   },
   "outputs": [],
   "source": [
    "# predict the labels for the test set\n",
    "best_svm_ngram = grid_search_svm_ngram.best_estimator_\n",
    "pred_svm_ngram_test = best_svm_ngram.predict(test_ngram)"
   ]
  },
  {
   "cell_type": "code",
   "execution_count": 220,
   "id": "ecd97a27",
   "metadata": {},
   "outputs": [
    {
     "name": "stdout",
     "output_type": "stream",
     "text": [
      "Training accuracy (n-gram): 68.5%\n",
      "Training F1-score (n-gram): 56.55%\n",
      ".............................................\n"
     ]
    },
    {
     "data": {
      "text/plain": [
       "<AxesSubplot: >"
      ]
     },
     "execution_count": 220,
     "metadata": {},
     "output_type": "execute_result"
    },
    {
     "data": {
      "image/png": "[encoded data removed]",
      "text/plain": [
       "<Figure size 600x400 with 2 Axes>"
      ]
     },
     "metadata": {},
     "output_type": "display_data"
    }
   ],
   "source": [
    "# Calculate accuracy, F1-score, and Confusion Matix on training set\n",
    "acc_svm_ngram_test = accuracy_score(test_data[\"Score\"], pred_svm_ngram_test)\n",
    "f1_svm_ngram_test = f1_score(test_data[\"Score\"], pred_svm_ngram_test, average='weighted')\n",
    "cm_svm_ngram_test = confusion_matrix(test_data[\"Score\"], pred_svm_ngram_test)\n",
    "\n",
    "\n",
    "print(\"Training accuracy (n-gram): {:0.4g}%\".format((acc_svm_ngram_test)*100))\n",
    "print(\"Training F1-score (n-gram): {:0.4g}%\".format((f1_svm_ngram_test)*100))\n",
    "\n",
    "print('...'*15)\n",
    "df_cm_svm_ngram_test = pd.DataFrame(cm_svm_ngram_test)\n",
    "plt.figure(figsize=(6,4))\n",
    "sns.heatmap(df_cm_svm_ngram_test, annot=True)"
   ]
  },
  {
   "cell_type": "markdown",
   "id": "6b3eaa10",
   "metadata": {
    "id": "1UizJ1aBHyht"
   },
   "source": [
    "#### SVM - TF-IDF"
   ]
  },
  {
   "cell_type": "code",
   "execution_count": 221,
   "id": "cfa0f33f",
   "metadata": {
    "id": "b9f1d8aa"
   },
   "outputs": [],
   "source": [
    "# predict the labels for the test set\n",
    "best_svm_tfidf = grid_search_svm_tfidf.best_estimator_\n",
    "pred_svm_tfidf_test = best_svm_tfidf.predict(test_tfidf)"
   ]
  },
  {
   "cell_type": "code",
   "execution_count": 222,
   "id": "982e22a3",
   "metadata": {
    "id": "a8f1681f"
   },
   "outputs": [
    {
     "name": "stdout",
     "output_type": "stream",
     "text": [
      "Training accuracy (TF-IDF): 68.5%\n",
      "Training F1-score (TF-IDF): 55.69%\n",
      ".............................................\n"
     ]
    },
    {
     "data": {
      "text/plain": [
       "<AxesSubplot: >"
      ]
     },
     "execution_count": 222,
     "metadata": {},
     "output_type": "execute_result"
    },
    {
     "data": {
      "image/png": "[encoded data removed]",
      "text/plain": [
       "<Figure size 600x400 with 2 Axes>"
      ]
     },
     "metadata": {},
     "output_type": "display_data"
    }
   ],
   "source": [
    "# Calculate accuracy, F1-score, and Confusion Matix on training set\n",
    "acc_svm_tfidf_test = accuracy_score(test_data[\"Score\"], pred_svm_tfidf_test)\n",
    "f1_svm_tfidf_test = f1_score(test_data[\"Score\"], pred_svm_tfidf_test, average='weighted')\n",
    "cm_svm_tfidf_test = confusion_matrix(test_data[\"Score\"], pred_svm_tfidf_test)\n",
    "\n",
    "\n",
    "print(\"Training accuracy (TF-IDF): {:0.4g}%\".format((acc_svm_tfidf_test)*100))\n",
    "print(\"Training F1-score (TF-IDF): {:0.4g}%\".format((f1_svm_tfidf_test)*100))\n",
    "\n",
    "print('...'*15)\n",
    "df_cm_svm_tfidf_test = pd.DataFrame(cm_svm_tfidf_test)\n",
    "plt.figure(figsize=(6,4))\n",
    "sns.heatmap(df_cm_svm_tfidf_test, annot=True)"
   ]
  },
  {
   "cell_type": "markdown",
   "id": "184075cd",
   "metadata": {
    "id": "1UizJ1aBHyht"
   },
   "source": [
    "#### SVM - CBOW"
   ]
  },
  {
   "cell_type": "code",
   "execution_count": 223,
   "id": "a9c58345",
   "metadata": {},
   "outputs": [],
   "source": [
    "# evaluate the model on the test set\n",
    "best_svm_cbow = grid_search_svm_cbow.best_estimator_\n",
    "pred_svm_cbow_test = best_svm_cbow.predict(test_cbow)"
   ]
  },
  {
   "cell_type": "code",
   "execution_count": 224,
   "id": "1ae3c8e7",
   "metadata": {},
   "outputs": [
    {
     "name": "stdout",
     "output_type": "stream",
     "text": [
      "Training accuracy (CBOW): 68.5%\n",
      "Training F1-score (CBOW): 55.69%\n",
      ".............................................\n"
     ]
    },
    {
     "data": {
      "text/plain": [
       "<AxesSubplot: >"
      ]
     },
     "execution_count": 224,
     "metadata": {},
     "output_type": "execute_result"
    },
    {
     "data": {
      "image/png": "[encoded data removed]",
      "text/plain": [
       "<Figure size 600x400 with 2 Axes>"
      ]
     },
     "metadata": {},
     "output_type": "display_data"
    }
   ],
   "source": [
    "# Calculate accuracy, F1-score, and Confusion Matix on training set\n",
    "acc_svm_cbow_test = accuracy_score(test_data[\"Score\"], pred_svm_cbow_test)\n",
    "f1_svm_cbow_test = f1_score(test_data[\"Score\"], pred_svm_cbow_test, average='weighted')\n",
    "cm_svm_cbow_test = confusion_matrix(test_data[\"Score\"], pred_svm_cbow_test)\n",
    "\n",
    "\n",
    "print(\"Training accuracy (CBOW): {:0.4g}%\".format((acc_svm_cbow_test)*100))\n",
    "print(\"Training F1-score (CBOW): {:0.4g}%\".format((f1_svm_cbow_test)*100))\n",
    "\n",
    "print('...'*15)\n",
    "df_cm_svm_cbow_test = pd.DataFrame(cm_svm_cbow_test)\n",
    "plt.figure(figsize=(6,4))\n",
    "sns.heatmap(df_cm_svm_cbow_test, annot=True)"
   ]
  },
  {
   "cell_type": "markdown",
   "id": "0c09bcdf",
   "metadata": {
    "id": "1UizJ1aBHyht"
   },
   "source": [
    "#### SVM - Skip Gram"
   ]
  },
  {
   "cell_type": "code",
   "execution_count": 225,
   "id": "f0febf98",
   "metadata": {},
   "outputs": [],
   "source": [
    "# evaluate the model on the test set\n",
    "best_svm_skipgram = grid_search_svm_skipgram.best_estimator_\n",
    "pred_svm_skipgram_test = best_svm_skipgram.predict(test_skipgram)"
   ]
  },
  {
   "cell_type": "code",
   "execution_count": 226,
   "id": "0bcd32ad",
   "metadata": {},
   "outputs": [
    {
     "name": "stdout",
     "output_type": "stream",
     "text": [
      "Training accuracy (Skip Gram): 68.5%\n",
      "Training F1-score (Skip Gram): 55.69%\n",
      ".............................................\n"
     ]
    },
    {
     "data": {
      "text/plain": [
       "<AxesSubplot: >"
      ]
     },
     "execution_count": 226,
     "metadata": {},
     "output_type": "execute_result"
    },
    {
     "data": {
      "image/png": "[encoded data removed]",
      "text/plain": [
       "<Figure size 600x400 with 2 Axes>"
      ]
     },
     "metadata": {},
     "output_type": "display_data"
    }
   ],
   "source": [
    "# Calculate accuracy, F1-score, and Confusion Matix on training set\n",
    "acc_svm_skipgram_test = accuracy_score(test_data[\"Score\"], pred_svm_skipgram_test)\n",
    "f1_svm_skipgram_test = f1_score(test_data[\"Score\"], pred_svm_skipgram_test, average='weighted')\n",
    "cm_svm_skipgram_test = confusion_matrix(test_data[\"Score\"], pred_svm_skipgram_test)\n",
    "\n",
    "\n",
    "print(\"Training accuracy (Skip Gram): {:0.4g}%\".format((acc_svm_skipgram_test)*100))\n",
    "print(\"Training F1-score (Skip Gram): {:0.4g}%\".format((f1_svm_skipgram_test)*100))\n",
    "\n",
    "print('...'*15)\n",
    "df_cm_svm_skipgram_test = pd.DataFrame(cm_svm_skipgram_test)\n",
    "plt.figure(figsize=(6,4))\n",
    "sns.heatmap(df_cm_svm_skipgram_test, annot=True)"
   ]
  },
  {
   "cell_type": "markdown",
   "id": "3da164ae",
   "metadata": {},
   "source": [
    "## Compare the performance on train and test set"
   ]
  },
  {
   "cell_type": "code",
   "execution_count": 227,
   "id": "7b21fdc5",
   "metadata": {},
   "outputs": [
    {
     "data": {
      "text/html": [
       "<div>\n",
       "<style scoped>\n",
       "    .dataframe tbody tr th:only-of-type {\n",
       "        vertical-align: middle;\n",
       "    }\n",
       "\n",
       "    .dataframe tbody tr th {\n",
       "        vertical-align: top;\n",
       "    }\n",
       "\n",
       "    .dataframe thead th {\n",
       "        text-align: right;\n",
       "    }\n",
       "</style>\n",
       "<table border=\"1\" class=\"dataframe\">\n",
       "  <thead>\n",
       "    <tr style=\"text-align: right;\">\n",
       "      <th></th>\n",
       "      <th>LR Train</th>\n",
       "      <th>LR Test</th>\n",
       "      <th>SVM Train</th>\n",
       "      <th>SVM Test</th>\n",
       "    </tr>\n",
       "  </thead>\n",
       "  <tbody>\n",
       "    <tr>\n",
       "      <th>BOW</th>\n",
       "      <td>87.38%</td>\n",
       "      <td>71.5%</td>\n",
       "      <td>63.12%</td>\n",
       "      <td>68.5%</td>\n",
       "    </tr>\n",
       "    <tr>\n",
       "      <th>n-gram</th>\n",
       "      <td>96.38%</td>\n",
       "      <td>69%</td>\n",
       "      <td>100%</td>\n",
       "      <td>68.5%</td>\n",
       "    </tr>\n",
       "    <tr>\n",
       "      <th>TF-IDF</th>\n",
       "      <td>100%</td>\n",
       "      <td>71.5%</td>\n",
       "      <td>63.12%</td>\n",
       "      <td>68.5%</td>\n",
       "    </tr>\n",
       "    <tr>\n",
       "      <th>CBOW</th>\n",
       "      <td>63.12%</td>\n",
       "      <td>68.5%</td>\n",
       "      <td>63.12%</td>\n",
       "      <td>68.5%</td>\n",
       "    </tr>\n",
       "    <tr>\n",
       "      <th>Skip Gram</th>\n",
       "      <td>63.12%</td>\n",
       "      <td>68.5%</td>\n",
       "      <td>63.12%</td>\n",
       "      <td>68.5%</td>\n",
       "    </tr>\n",
       "  </tbody>\n",
       "</table>\n",
       "</div>"
      ],
      "text/plain": [
       "          LR Train LR Test SVM Train SVM Test\n",
       "BOW         87.38%   71.5%    63.12%    68.5%\n",
       "n-gram      96.38%     69%      100%    68.5%\n",
       "TF-IDF        100%   71.5%    63.12%    68.5%\n",
       "CBOW        63.12%   68.5%    63.12%    68.5%\n",
       "Skip Gram   63.12%   68.5%    63.12%    68.5%"
      ]
     },
     "execution_count": 227,
     "metadata": {},
     "output_type": "execute_result"
    }
   ],
   "source": [
    "Accuracies = {'LR Train': [\n",
    "                '{0:.4g}%'.format(acc_lr_bow_train*100),\n",
    "                '{0:.4g}%'.format(acc_lr_ngram_train*100),\n",
    "                '{0:.4g}%'.format(acc_lr_tfidf_train*100),\n",
    "                '{0:.4g}%'.format(acc_lr_cbow_train*100),\n",
    "                '{0:.4g}%'.format(acc_lr_skipgram_train*100)\n",
    "                ],\n",
    "             'LR Test': [\n",
    "                '{0:.4g}%'.format(acc_lr_bow_test*100),\n",
    "                '{0:.4g}%'.format(acc_lr_ngram_test*100),\n",
    "                '{0:.4g}%'.format(acc_lr_tfidf_test*100),\n",
    "                '{0:.4g}%'.format(acc_lr_cbow_test*100),\n",
    "                '{0:.4g}%'.format(acc_lr_skipgram_test*100)\n",
    "                ],\n",
    "             'SVM Train': [\n",
    "                '{0:.4g}%'.format(acc_svm_bow_train*100),\n",
    "                '{0:.4g}%'.format(acc_svm_ngram_train*100),\n",
    "                '{0:.4g}%'.format(acc_svm_tfidf_train*100),\n",
    "                '{0:.4g}%'.format(acc_svm_cbow_train*100),\n",
    "                '{0:.4g}%'.format(acc_svm_skipgram_train*100)\n",
    "                ],\n",
    "             'SVM Test': [\n",
    "                '{0:.4g}%'.format(acc_svm_bow_test*100),\n",
    "                '{0:.4g}%'.format(acc_svm_ngram_test*100),\n",
    "                '{0:.4g}%'.format(acc_svm_tfidf_test*100),\n",
    "                '{0:.4g}%'.format(acc_svm_cbow_test*100),\n",
    "                '{0:.4g}%'.format(acc_svm_skipgram_test*100)\n",
    "                ]}\n",
    "\n",
    "summary = pd.DataFrame(Accuracies, index=['BOW', 'n-gram', 'TF-IDF', 'CBOW', 'Skip Gram'])\n",
    "summary"
   ]
  },
  {
   "cell_type": "code",
   "execution_count": null,
   "id": "LuC7hvQd6KXT",
   "metadata": {
    "id": "LuC7hvQd6KXT"
   },
   "outputs": [],
   "source": []
  }
 ],
 "metadata": {
  "colab": {
   "provenance": []
  },
  "kernelspec": {
   "display_name": "Python 3 (ipykernel)",
   "language": "python",
   "name": "python3"
  },
  "language_info": {
   "codemirror_mode": {
    "name": "ipython",
    "version": 3
   },
   "file_extension": ".py",
   "mimetype": "text/x-python",
   "name": "python",
   "nbconvert_exporter": "python",
   "pygments_lexer": "ipython3",
   "version": "3.10.9"
  }
 },
 "nbformat": 4,
 "nbformat_minor": 5
}
